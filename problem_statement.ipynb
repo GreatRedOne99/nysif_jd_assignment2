{
 "cells": [
  {
   "cell_type": "markdown",
   "metadata": {
    "id": "VhmDrfxFJRse"
   },
   "source": [
    "# Assignment 2 – Replicating Portfolio\n",
    "\n",
    "Objective: Replicate the performance of <b>MTUM</b> (iShares MSCI USA Momentum Factor ETF) using a sparse portfolio from specified ETFs.\n",
    "\n",
    "## 🔢 Data Acquisition:\n",
    "\n",
    "  - Daily Adj Close (and volume if needed) for MTUM and the following ETFs:\n",
    "\n",
    "    [XLE, XLF, XLU, XLI, XLK, XLV, XLY, XLP, XLB, SMH, AIQ] (up to 20 years)\n",
    "  \n",
    "  - <b>Handle corporate actions, missing data, and survivorship bias.</b>\n",
    "\n",
    "\n",
    "## 📐 Feature Engineering:\n",
    "\n",
    "Compute for each security:\n",
    "\n",
    "\n",
    "*   1-, 3-, 6-, 12-month momentum\n",
    "*   20-, 60-day volatility\n",
    "*   60-day realized correlation with MTUM\n",
    "*   Optional: size, P/E, earnings surprises\n",
    "\n",
    "Standardize features as needed.\n",
    "\n",
    "## 🏷️ Label Creation:\n",
    "\n",
    "* For each monthly rebalancing date, solve an in-sample optimization to minimize tracking error to MTUM under an L1 sparsity penalty.\n",
    "* Label selected tickers as 1; others as 0.\n",
    "\n",
    "\n",
    "## 🤖 Model Development:\n",
    "\n",
    "* Train a classifier (XGBoost or LightGBM preferred).\n",
    "  Use cross-validation.\n",
    "* Report AUC and feature importance.\n",
    "\n",
    "## 📊 Portfolio Construction & Backtesting:\n",
    "\n",
    "* Monthly steps:\n",
    "    * Update features\n",
    "    * Score securities with model\n",
    "    * Select securities\n",
    "    * Minimize ex-ante tracking error to MTUM under constraints (weights ≥ 0, sum to 1, L1 penalty)\n",
    "    * Record weights\n",
    "    * Compute daily returns\n",
    "\n",
    "\n",
    "## 📈 Evaluation & Visuals:\n",
    "\n",
    "* Key statistics:\n",
    "\n",
    "  [ annualized tracking error, information ratio, drawdown, average holdings, Turnover ]\n",
    "\n",
    "* Visuals:\n",
    "    * Cumulative returns (MTUM vs. replica)\n",
    "    * Rolling tracking error\n",
    "    * Feature importance chart"
   ]
  },
  {
   "cell_type": "code",
   "execution_count": null,
   "metadata": {
    "id": "mrIMl8IUQm5U"
   },
   "outputs": [],
   "source": []
  }
 ],
 "metadata": {
  "colab": {
   "provenance": []
  },
  "kernelspec": {
   "display_name": "Python 3 (ipykernel)",
   "language": "python",
   "name": "python3"
  },
  "language_info": {
   "codemirror_mode": {
    "name": "ipython",
    "version": 3
   },
   "file_extension": ".py",
   "mimetype": "text/x-python",
   "name": "python",
   "nbconvert_exporter": "python",
   "pygments_lexer": "ipython3",
   "version": "3.11.9"
  }
 },
 "nbformat": 4,
 "nbformat_minor": 4
}
